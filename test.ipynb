{
 "cells": [
  {
   "cell_type": "code",
   "execution_count": 1,
   "id": "fa9b956d",
   "metadata": {},
   "outputs": [],
   "source": [
    "import sys\n",
    "import datetime\n",
    "import time\n",
    "\n",
    "import matplotlib as mpl\n",
    "import matplotlib.pyplot as plt\n",
    "import numpy as np\n",
    "import pandas as pd\n",
    "\n",
    "import os\n",
    "os.chdir(\"/mnt/c/Users/Dave/Project/COBS\")\n",
    "from cobs import Model, Reward\n",
    "from cobs import OccupancyGenerator as OG\n",
    "from cobs.predictive_model.csv_importer import CsvImporter\n",
    "from tqdm import tqdm\n",
    "from pprint import pprint"
   ]
  },
  {
   "cell_type": "code",
   "execution_count": 3,
   "id": "b4f99369",
   "metadata": {},
   "outputs": [],
   "source": [
    "Model.set_energyplus_folder(\"/usr/local/EnergyPlus-9-3-0/\")\n",
    "epw_path = \"cobs/data/weathers/USA_IL_Chicago-OHare.Intl.AP.725300_TMY3.epw\"\n",
    "\n",
    "test_model = Model(\"/mnt/c/Softwares/COBS/cobs/data/buildings/5Zone_Control.idf\",\n",
    "                  epw_path)"
   ]
  },
  {
   "cell_type": "code",
   "execution_count": 6,
   "id": "26ebdbd4",
   "metadata": {},
   "outputs": [
    {
     "data": {
      "text/plain": [
       "\n",
       "Schedule:Compact,\n",
       "    ReheatCoilAvailSched,     !- Name\n",
       "    Fraction,                 !- Schedule Type Limits Name\n",
       "    Through: 12/31,           !- Field 1\n",
       "    For: AllDays,             !- Field 2\n",
       "    Until: 24:00,             !- Field 3\n",
       "    0.0;                      !- Field 4"
      ]
     },
     "execution_count": 6,
     "metadata": {},
     "output_type": "execute_result"
    }
   ],
   "source": [
    "test_model.get_configuration('SCHEDULE:COMPACT')[-4]"
   ]
  },
  {
   "cell_type": "code",
   "execution_count": null,
   "id": "b366bdb5",
   "metadata": {},
   "outputs": [],
   "source": []
  }
 ],
 "metadata": {
  "kernelspec": {
   "display_name": "Python 3 (ipykernel)",
   "language": "python",
   "name": "python3"
  },
  "language_info": {
   "codemirror_mode": {
    "name": "ipython",
    "version": 3
   },
   "file_extension": ".py",
   "mimetype": "text/x-python",
   "name": "python",
   "nbconvert_exporter": "python",
   "pygments_lexer": "ipython3",
   "version": "3.8.10"
  }
 },
 "nbformat": 4,
 "nbformat_minor": 5
}
